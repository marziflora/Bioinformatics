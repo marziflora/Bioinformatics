{
 "cells": [
  {
   "cell_type": "code",
   "execution_count": 25,
   "metadata": {},
   "outputs": [],
   "source": [
    "import os\n",
    "from os import listdir\n",
    "import pandas as pd\n",
    "import io\n",
    "from io import BytesIO\n",
    "\n",
    "Pindel = 'Pindel/'\n",
    "CNV = 'CNV/'"
   ]
  },
  {
   "cell_type": "code",
   "execution_count": 26,
   "metadata": {},
   "outputs": [],
   "source": [
    "pindel_files = [f for f in listdir(Pindel)]\n",
    "CNV_files = [f for f in listdir(CNV)]"
   ]
  },
  {
   "cell_type": "code",
   "execution_count": 27,
   "metadata": {},
   "outputs": [
    {
     "data": {
      "text/plain": [
       "(64, 64)"
      ]
     },
     "execution_count": 27,
     "metadata": {},
     "output_type": "execute_result"
    }
   ],
   "source": [
    "len(pindel_files), len(CNV_files) #sorted the same way, no need to check if compared files are from the same individual"
   ]
  },
  {
   "cell_type": "code",
   "execution_count": 28,
   "metadata": {},
   "outputs": [],
   "source": [
    "def intersect(a, b):\n",
    "    if len(a) > len(b): #change\n",
    "        a, b = b, a\n",
    "\n",
    "    listaC = [[0,0]]\n",
    "    for i, el_a in enumerate(a):\n",
    "        for j, el_b in enumerate(b):\n",
    "\n",
    "            if el_a[0] <= el_b[0] <= el_b[1] <= el_a[1]: #inside (both b) ABBA\n",
    "                dodane = False \n",
    "\n",
    "                for k, el_c in enumerate(listaC):\n",
    "                    if el_b[0] <= el_c[0] <= el_c[1] <= el_b[1]:\n",
    "                        listaC[k] = [el_b[0], el_b[1]] #entend existing record\n",
    "                        dodane = True\n",
    "                    elif el_c[0] <= el_b[0] <= el_b[1] <= el_c[1]:\n",
    "                        dodane = True\n",
    "                        pass #it already exist\n",
    "                    elif el_c[0] <= el_b[0] <= el_c[1] <= el_b[1]:\n",
    "                        dodane = True\n",
    "                        listaC[k] = [el_c[0], el_b[1]] #entend existing record\n",
    "                    elif el_b[0] <= el_c[0] <= el_b[1] <= el_c[1]:\n",
    "                        dodane = True\n",
    "                        listaC[k] = [el_b[0], el_c[1]] #entend existing record\n",
    "                    else:\n",
    "                        dodane = False\n",
    "                if dodane == False:\n",
    "                        listaC.append([el_b[0], el_b[1]])\n",
    "                        \n",
    "            elif el_a[0] <= el_b[0] <= el_a[1] <= el_b[1]: #cut from right ABAB\n",
    "                dodane = False \n",
    "       \n",
    "                for k, el_c in enumerate(listaC):\n",
    "                    if el_b[0] <= el_c[0] <= el_c[1] <= el_a[1]:\n",
    "                        dodane = True \n",
    "                        listaC[k] = [el_b[0], el_a[1]] #entend existing record\n",
    "                    elif el_c[0] <= el_b[0] <= el_a[1] <= el_c[1]:\n",
    "                        dodane = True \n",
    "                        pass #it already exist\n",
    "                    elif el_c[0] <= el_b[0] <= el_c[1] <= el_a[1]:\n",
    "                        dodane = True \n",
    "                        listaC[k] = [el_c[0], el_a[1]] #entend existing record\n",
    "                    elif el_b[0] <= el_c[0] <= el_a[1] <= el_c[1]:\n",
    "                        dodane = True \n",
    "                        listaC[k] = [el_b[0], el_c[1]] #entend existing record\n",
    "                    else:\n",
    "                        dodane = False\n",
    "                if dodane == False:\n",
    "                        listaC.append([el_b[0], el_a[1]])\n",
    "                        \n",
    "            elif el_b[0] <= el_a[0] <= el_a[1] <= el_b[1]: #both BAAB\n",
    "                dodane = False \n",
    " \n",
    "                for k, el_c in enumerate(listaC):\n",
    "                    if el_a[0] <= el_c[0] <= el_c[1] <= el_a[1]:\n",
    "                        dodane = True \n",
    "                        listaC[k] = [el_a[0], el_a[1]] #entend existing record\n",
    "                    elif el_c[0] <= el_a[0] <= el_a[1] <= el_c[1]:\n",
    "                        dodane = True \n",
    "                        pass #it already exist\n",
    "                    elif el_c[0] <= el_a[0] <= el_c[1] <= el_a[1]:\n",
    "                        dodane = True \n",
    "                        listaC[k] = [el_c[0], el_a[1]] #entend existing record\n",
    "                    elif el_a[0] <= el_c[0] <= el_a[1] <= el_c[1]:\n",
    "                        dodane = True \n",
    "                        listaC[k] = [el_a[0], el_c[1]] #entend existing record\n",
    "                    else:\n",
    "                        dodane = False\n",
    "                if dodane == False:\n",
    "                        listaC.append([el_a[0], el_a[1]])\n",
    "\n",
    "                        \n",
    "            elif el_b[0] <= el_a[0] <= el_b[1] <= el_a[1]: #BABA\n",
    "                dodane = False \n",
    "                \n",
    "                for k, el_c in enumerate(listaC):\n",
    "                    if el_a[0] <= el_c[0] <= el_c[1] <= el_b[1]:\n",
    "                        listaC[k] = [el_b[0], el_a[1]] #entend existing record\n",
    "                    elif el_c[0] <= el_a[0] <= el_b[1] <= el_c[1]:\n",
    "                        pass #it already exist\n",
    "                    elif el_c[0] <= el_a[0] <= el_c[1] <= el_b[1]:\n",
    "                        listaC[k] = [el_c[0], el_a[1]] #entend existing record\n",
    "                    elif el_a[0] <= el_c[0] <= el_b[1] <= el_c[1]:\n",
    "                        listaC[k] = [el_a[0], el_c[1]] #entend existing record\n",
    "                    else:\n",
    "                        dodane = False\n",
    "                if dodane == False:\n",
    "                        listaC.append([el_a[0], el_b[1]])\n",
    "            else:\n",
    "                pass\n",
    "    return listaC"
   ]
  },
  {
   "cell_type": "code",
   "execution_count": 97,
   "metadata": {},
   "outputs": [
    {
     "name": "stdout",
     "output_type": "stream",
     "text": [
      "Empty DataFrame\n",
      "Columns: [Chr, Start, End]\n",
      "Index: []\n",
      "1538733\n",
      "18987\n",
      "tyle wspolnych regionow 1439 chromosom 1\n",
      "tyle wspolnych regionow 1098 chromosom 2\n"
     ]
    }
   ],
   "source": [
    "for i in range(0,1): #0,64 by files\n",
    "    file_pindel = pd.read_csv(\"Pindel/\"+pindel_files[i], names=['Chr', \"Start\", \"End\"],  sep=\" \", dtype={'Chr':'str', 'Start':'int', 'End':'int' })\n",
    "    file_cnv = pd.read_csv(\"CNV/\"+CNV_files[i], names=['Chr', \"Start\", \"End\"],  sep=\" \", dtype={'Chr':'str', 'Start':'int', 'End':'int' })                            \n",
    "    df_connected = pd.DataFrame(columns=['Chr', \"Start\", \"End\"])\n",
    "#     print(df_connected.head())\n",
    "#     print(len(file_pindel))\n",
    "#     print(len(file_cnv))\n",
    "    for j in range(1,3): #30 docelowo #by chromosoms Tutaj niestety chr musiało być stringiem bo jest X też\n",
    "        inter1 =  file_pindel[['Start', 'End']][file_pindel.Chr==str(j)].values.tolist()\n",
    "        inter2 =  file_cnv[['Start', 'End']][file_cnv.Chr==str(j)].values.tolist()\n",
    "        listaC = intersect(inter1, inter2)\n",
    "        print(\"tyle wspolnych regionow\", len(listaC), \"chromosom\", j)\n",
    "\n",
    "        df_new = pd.DataFrame(listaC, columns =['Start', 'End'])[1:] #tutaj usuwam moją zainicjowaną długość listy\n",
    "        df_new.insert(0, \"Chr\", [str(j) for i in range(len(listaC[1:]))])\n",
    "        df_connected = pd.concat([df_connected,df_new])\n",
    "        \n",
    "    #Save for this individual\n",
    "    df_connected.to_csv(\"Connected/\"+str(pindel_files[0][:-13])+ \".csv\", index=False)\n",
    "\n",
    "    "
   ]
  },
  {
   "cell_type": "code",
   "execution_count": null,
   "metadata": {},
   "outputs": [],
   "source": []
  },
  {
   "cell_type": "code",
   "execution_count": null,
   "metadata": {},
   "outputs": [],
   "source": []
  },
  {
   "cell_type": "code",
   "execution_count": null,
   "metadata": {},
   "outputs": [],
   "source": []
  },
  {
   "cell_type": "code",
   "execution_count": null,
   "metadata": {},
   "outputs": [],
   "source": []
  },
  {
   "cell_type": "code",
   "execution_count": null,
   "metadata": {},
   "outputs": [],
   "source": []
  },
  {
   "cell_type": "code",
   "execution_count": null,
   "metadata": {},
   "outputs": [],
   "source": []
  },
  {
   "cell_type": "code",
   "execution_count": null,
   "metadata": {},
   "outputs": [],
   "source": []
  },
  {
   "cell_type": "code",
   "execution_count": null,
   "metadata": {},
   "outputs": [],
   "source": []
  },
  {
   "cell_type": "code",
   "execution_count": null,
   "metadata": {},
   "outputs": [],
   "source": []
  },
  {
   "cell_type": "code",
   "execution_count": null,
   "metadata": {},
   "outputs": [],
   "source": [
    "#NIEUDANE "
   ]
  },
  {
   "cell_type": "code",
   "execution_count": null,
   "metadata": {},
   "outputs": [],
   "source": [
    "def merge_intervals(intervals):\n",
    "    sort = sorted(intervals, key=lambda tuples: tuples[0])\n",
    "    merged = []\n",
    "\n",
    "    for tuples in sort:\n",
    "        if not merged:\n",
    "            merged.append(tuples)\n",
    "        else:\n",
    "            b = merged.pop()\n",
    "            if b[1] >= tuples[0]:\n",
    "                new_tup = tuple([b[0], tuples[1]])\n",
    "                merged.append(new_tup)\n",
    "            else:\n",
    "                merged.append(b)\n",
    "                merged.append(tuples)\n",
    "    return merged\n",
    "\n",
    "\n",
    "intervals1 = file_pindel[['Start', 'End']][file_pindel.Chr=='1']\n",
    "intervals2 = file_cnv[['Start', 'End']][file_cnv.Chr=='1']\n",
    "tuples = [tuple(x) for x in intervals1.values] + [tuple(x) for x in intervals2.values]\n",
    "tuples\n",
    "merge_intervals(tuples)"
   ]
  },
  {
   "cell_type": "code",
   "execution_count": null,
   "metadata": {},
   "outputs": [],
   "source": [
    "def findIntersection(intervals,N): \n",
    "    l = intervals[0][0] \n",
    "    r = intervals[0][1] \n",
    "\n",
    "    for i in range(1,N): \n",
    "        if (intervals[i][0] > r or intervals[i][1] < l): \n",
    "#             print(-/1)\n",
    "            pass\n",
    "        else: \n",
    "            l = max(l, intervals[i][0]) \n",
    "            r = min(r, intervals[i][1])       \n",
    "    print(\"[\", l,\", \",r,\"]\") \n",
    "\n",
    "intervals= [ \n",
    "            [ 1, 6 ], \n",
    "            [ 2, 8 ], \n",
    "            [ 3, 10 ], \n",
    "            [ 5, 8 ] \n",
    "            ] \n",
    "N =len(intervals) \n",
    "findIntersection(intervals, N) "
   ]
  },
  {
   "cell_type": "code",
   "execution_count": null,
   "metadata": {},
   "outputs": [],
   "source": [
    "a = tuples\n",
    "b = []\n",
    "for begin,end in sorted(a):\n",
    "    if b and b[-1][1] >= begin - 1:\n",
    "        b[-1] = (b[-1][0], end)\n",
    "    else:\n",
    "        b.append((begin, end))\n",
    "        \n",
    "sorted(tuples)"
   ]
  }
 ],
 "metadata": {
  "kernelspec": {
   "display_name": "Python 3",
   "language": "python",
   "name": "python3"
  },
  "language_info": {
   "codemirror_mode": {
    "name": "ipython",
    "version": 3
   },
   "file_extension": ".py",
   "mimetype": "text/x-python",
   "name": "python",
   "nbconvert_exporter": "python",
   "pygments_lexer": "ipython3",
   "version": "3.7.1"
  }
 },
 "nbformat": 4,
 "nbformat_minor": 2
}
